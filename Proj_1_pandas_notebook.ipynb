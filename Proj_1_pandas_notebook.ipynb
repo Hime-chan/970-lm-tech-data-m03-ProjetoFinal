{
  "cells": [
    {
      "attachments": {},
      "cell_type": "markdown",
      "id": "8030d55b",
      "metadata": {
        "id": "8030d55b"
      },
      "source": [
        "# Projeto Técnicas de programação I\n",
        "\n",
        "## Análise exploratória de dados/Pandas\n",
        "\n",
        "Nomes:\n",
        "- Álvaro Antônio Fonseca De Souza\n",
        "- Claudia Cavalcante Fonseca\n",
        "- Roulien Roland Martins Ribeiro\n",
        "\n",
        "Turma: 970 LM Tech Data Talents \n"
      ]
    },
    {
      "cell_type": "markdown",
      "id": "9d476103",
      "metadata": {
        "id": "9d476103"
      },
      "source": [
        "Nesse projeto trabalharemos com dados fictícios de investidores.\n",
        "\n",
        "São 3 arquivos que devem ser carregados para responder as perguntas abaixo.\n",
        "\n",
        "Para a entrega, coloque o notebook respondido no seu github (um por grupo)!"
      ]
    },
    {
      "cell_type": "markdown",
      "id": "ff348160",
      "metadata": {
        "id": "ff348160"
      },
      "source": [
        "Informações\n",
        "\n",
        "Cadastro:\n",
        "- **id** : Identificação do investidor\n",
        "- **Nome** : Nome completo do investidor \n",
        "- **Sexo** : Feminino ou masculino\n",
        "- **Nasc** : Data de nascimento\n",
        "- **Idade** : Idade do investidor \n",
        "- **Email** : E-mail do investidor\n",
        "- **Lat_long** : Dados geográficos do investidor\n",
        "- **Job** : Profisão do investidor ou do seu responsável (em inglês)\n",
        "- **Estado** : Estado onde o investidor reside\n",
        "\n",
        "Investimento:\n",
        "- **id** : Identificação do investidor\n",
        "- **Salario** : Renda do investidor ou seu responsável\n",
        "- **Perfil** : Perfil de investimento\n",
        "- **Ativo01, Ativo02, Ativo03, Ativo04, Ativo05, Ativo06, Ativo07** : O quanto de dinheiro o investidor colocou em cada ativo\n",
        "- **Nota1, Nota2** : O quanto o investidor está satisfeito com nossa empresa (2 avaliações)\n",
        "\n",
        "Lembrando que esses dados são irreais e fictícios\n"
      ]
    },
    {
      "cell_type": "markdown",
      "id": "2c93ad4b",
      "metadata": {
        "id": "2c93ad4b"
      },
      "source": [
        "Arquivo cadastro.csv\n",
        "\n",
        "\n",
        "Arquivo investimento.csv (dividido em 2 partes)"
      ]
    },
    {
      "cell_type": "markdown",
      "id": "ebdf2a14",
      "metadata": {
        "id": "ebdf2a14"
      },
      "source": [
        "### Critérios de avaliação\n",
        "\n",
        "Os seguintes itens serão avaliados:\n",
        "\n",
        "1. Reprodutibilidade do código: seu código será executado e precisa gerar os mesmos resultados apresentados por você;\n",
        "\n",
        "2. Clareza: seu código precisa ser claro e deve existir uma linha de raciocínio direta. Comente o código em pontos que julgar necessário para o entendimento total;\n",
        "\n",
        "3. Explicação de todos os processos feitos e decisões tomadas\n",
        "\n",
        "## Informações Gerais sobre o Projeto\n",
        "\n",
        "- O projeto poderá ser desenvolvido __individualmente__ ou em __grupos com até 4 pessoas__, caos façam em grupos enviar a relação de alunos do grupo para o professor;\n",
        "\n",
        "\n",
        "- Data de Entrega: 14/04/2023;\n",
        "\n",
        "- Entrega: Através do _Class_\n",
        "\n",
        "\n",
        "\n"
      ]
    },
    {
      "cell_type": "markdown",
      "id": "4ceb5d96",
      "metadata": {
        "id": "4ceb5d96"
      },
      "source": [
        "## 1 - Carregar os arquivos e cadastro, investimento1 e investimento2 e mostrar a quantidade de linhas de cada um, além das informações desses dataframes"
      ]
    },
    {
      "cell_type": "code",
      "execution_count": 229,
      "id": "61c059ab",
      "metadata": {
        "ExecuteTime": {
          "end_time": "2021-08-16T13:30:14.809532Z",
          "start_time": "2021-08-16T13:30:14.801117Z"
        },
        "id": "61c059ab"
      },
      "outputs": [
        {
          "name": "stdout",
          "output_type": "stream",
          "text": [
            "Arquivo:  cadastro.csv\n",
            "38754  linhas\n",
            "<class 'pandas.core.frame.DataFrame'>\n",
            "RangeIndex: 38754 entries, 0 to 38753\n",
            "Data columns (total 9 columns):\n",
            " #   Column    Non-Null Count  Dtype \n",
            "---  ------    --------------  ----- \n",
            " 0   id        38754 non-null  object\n",
            " 1   Nome      38754 non-null  object\n",
            " 2   Sexo      38754 non-null  object\n",
            " 3   Nasc      38754 non-null  object\n",
            " 4   Idade     38754 non-null  int64 \n",
            " 5   Email     38754 non-null  object\n",
            " 6   Lat_long  38754 non-null  object\n",
            " 7   Job       38754 non-null  object\n",
            " 8   Estado    38754 non-null  object\n",
            "dtypes: int64(1), object(8)\n",
            "memory usage: 2.7+ MB\n",
            "None\n",
            "Arquivo:  investimento_parte1.csv\n",
            "20000  linhas\n",
            "<class 'pandas.core.frame.DataFrame'>\n",
            "RangeIndex: 20000 entries, 0 to 19999\n",
            "Data columns (total 12 columns):\n",
            " #   Column   Non-Null Count  Dtype  \n",
            "---  ------   --------------  -----  \n",
            " 0   id       20000 non-null  object \n",
            " 1   Salario  20000 non-null  object \n",
            " 2   Perfil   20000 non-null  object \n",
            " 3   Ativo01  15012 non-null  float64\n",
            " 4   Ativo02  16857 non-null  float64\n",
            " 5   Ativo03  16760 non-null  float64\n",
            " 6   Ativo04  13799 non-null  float64\n",
            " 7   Ativo05  16829 non-null  float64\n",
            " 8   Ativo06  9895 non-null   float64\n",
            " 9   Ativo07  20000 non-null  float64\n",
            " 10  Nota1    18469 non-null  float64\n",
            " 11  Nota2    18954 non-null  float64\n",
            "dtypes: float64(9), object(3)\n",
            "memory usage: 1.8+ MB\n",
            "None\n",
            "Arquivo:  investimento_parte2.csv\n",
            "24052  linhas\n",
            "<class 'pandas.core.frame.DataFrame'>\n",
            "RangeIndex: 24052 entries, 0 to 24051\n",
            "Data columns (total 12 columns):\n",
            " #   Column   Non-Null Count  Dtype  \n",
            "---  ------   --------------  -----  \n",
            " 0   id       24052 non-null  object \n",
            " 1   Salario  24052 non-null  object \n",
            " 2   Perfil   24052 non-null  object \n",
            " 3   Ativo01  17994 non-null  float64\n",
            " 4   Ativo02  20245 non-null  float64\n",
            " 5   Ativo03  20249 non-null  float64\n",
            " 6   Ativo04  16685 non-null  float64\n",
            " 7   Ativo05  20211 non-null  float64\n",
            " 8   Ativo06  11932 non-null  float64\n",
            " 9   Ativo07  24052 non-null  float64\n",
            " 10  Nota1    22172 non-null  float64\n",
            " 11  Nota2    22810 non-null  float64\n",
            "dtypes: float64(9), object(3)\n",
            "memory usage: 2.2+ MB\n",
            "None\n"
          ]
        }
      ],
      "source": [
        "import pandas as pd\n",
        "import datetime as dt\n",
        "pd.set_option(\"display.max_columns\", 100);\n",
        "\n",
        "arquivos = [\"cadastro.csv\",\"investimento_parte1.csv\",\"investimento_parte2.csv\"];\n",
        "dataframes = [pd.read_table(arquivo, delimiter =\",\") for arquivo in arquivos];\n",
        "df_cadastro, df_investimento1, df_investimento2 = dataframes;\n",
        "\n",
        "for arquivo,dataframe in zip(arquivos,dataframes):\n",
        "    print(\"Arquivo: \",arquivo);\n",
        "    print(len(dataframe.index),\" linhas\");\n",
        "    print(dataframe.info());\n"
      ]
    },
    {
      "cell_type": "markdown",
      "id": "de88ae37",
      "metadata": {
        "id": "de88ae37"
      },
      "source": [
        "## 2 - Juntar os dataframes de investimento1 e investimento2 em um só e ver a quantidade de linhas"
      ]
    },
    {
      "cell_type": "code",
      "execution_count": 230,
      "id": "e2c363da",
      "metadata": {
        "id": "e2c363da"
      },
      "outputs": [
        {
          "name": "stdout",
          "output_type": "stream",
          "text": [
            "44052\n"
          ]
        }
      ],
      "source": [
        "df_investimento = pd.concat([df_investimento1, df_investimento2])\n",
        "print(len(df_investimento.index))"
      ]
    },
    {
      "cell_type": "markdown",
      "id": "9a49fb0d",
      "metadata": {
        "id": "9a49fb0d"
      },
      "source": [
        "## 3 - Crie um novo dataframe eliminando as linhas duplicadas"
      ]
    },
    {
      "cell_type": "code",
      "execution_count": 231,
      "id": "9d26e5d9",
      "metadata": {
        "id": "9d26e5d9"
      },
      "outputs": [],
      "source": [
        "df_investimento_unicos = df_investimento.drop_duplicates()\n",
        "#print(len(df_investimento_unicos['id']))"
      ]
    },
    {
      "cell_type": "markdown",
      "id": "d5c4abc4",
      "metadata": {
        "id": "d5c4abc4"
      },
      "source": [
        "## 4 - Junte o dataframe de investimento com o de cadastro\n",
        "Dica: use a chave id"
      ]
    },
    {
      "cell_type": "code",
      "execution_count": 232,
      "id": "f21d58b4",
      "metadata": {
        "id": "f21d58b4"
      },
      "outputs": [],

      "source": [
        "\n",
        "df_cadastro_investimento = pd.merge(df_cadastro, df_investimento_unicos, how = 'inner', on = 'id')\n",
        "#print(df_cadastro_investimento.head());"
      ]
    },
    {
      "cell_type": "markdown",
      "id": "0ce78c5c",
      "metadata": {
        "ExecuteTime": {
          "end_time": "2021-08-16T13:13:10.973171Z",
          "start_time": "2021-08-16T13:13:10.961165Z"
        },
        "id": "0ce78c5c"
      },
      "source": [
        "## 5 - Ordene o dataframe pelo id, de forma crescente e redefina o índice"
      ]
    },
    {
      "cell_type": "code",
      "execution_count": 233,
      "id": "4d97062c",
      "metadata": {
        "id": "4d97062c"
      },
      "outputs": [],
      "source": [
        "df_investidores = df_cadastro_investimento.sort_values(by = 'id').set_index('id');\n"
      ]
    },
    {
      "attachments": {},
      "cell_type": "markdown",
      "id": "1b30e31d",
      "metadata": {},
      "source": [
        "df_cadastro_investimento_order_id = df_cadastro_investimento.sort_values(by = 'id').set_index('id');\n",
        "\n",
        "print(df_cadastro_investimento_order_id.head(20));"
      ]
    },
    {
      "cell_type": "markdown",
      "id": "c22a9a29",
      "metadata": {
        "id": "c22a9a29"
      },
      "source": [
        "## 6 - Faça uma análise dos dados faltantes e trate-os\n",
        "\n",
        "Mostre todas as colunas com dados faltantes, sua quantidade/porcentagem e como tratar (preencher) cada uma delas explicando sua estratégia"
      ]
    },
    {
      "cell_type": "code",
      "execution_count": 234,
      "id": "c4bb5d14",
      "metadata": {
        "id": "c4bb5d14"
      },
      "outputs": [
        {
          "name": "stdout",
          "output_type": "stream",
          "text": [
            "- Ativo01\n",
            "Quantidade de faltantes: 9724 (25.09%)\n",
            "- Ativo02\n",
            "Quantidade de faltantes: 6100 (15.74%)\n",
            "- Ativo03\n",
            "Quantidade de faltantes: 6169 (15.92%)\n",
            "- Ativo04\n",
            "Quantidade de faltantes: 11887 (30.67%)\n",
            "- Ativo05\n",
            "Quantidade de faltantes: 6191 (15.98%)\n",
            "- Ativo06\n",
            "Quantidade de faltantes: 19514 (50.35%)\n",
            "- Nota1\n",
            "Quantidade de faltantes: 3000 (7.74%)\n",
            "- Nota2\n",
            "Quantidade de faltantes: 2000 (5.16%)\n",
            "Escolhemos substituir os campos nulos referente aos 'Ativos' por 0, simbolizando que o investidor não tem nenhuma quantia investida naquele ativo.\n",
            "Escolhemos substituir os campos nulos referente às 'Notas' pela média de cada nota. Assim, o resultado final da média das notas não será afetado. Talvez fosse mais interessante adicionar alguns filtros à média, a fim de manter a média de cada nicho em vez da média geral. Mas, para isso, precisaríamos saber mais sobre a área específica e o objetivo das queries. Por outro lado, a média geral também é importante, então talvez fosse interessante não preencher os dados faltantes, mantendo os dados originais.\n"
          ]
        }
      ],
      "source": [
        "#Filtrando faltantes\n",
        "faltantes=();\n",
        "\n",
        "for coluna in df_investidores.columns:\n",
        "    qtd_faltantes= df_investidores.loc[:,coluna].isna().sum();\n",
        "    qtd_total = len(df_investidores.index);\n",
        "\n",
        "    if qtd_faltantes != 0:\n",
        "        print(f\"- {coluna}\\nQuantidade de faltantes: {qtd_faltantes} ({(qtd_faltantes*100)/qtd_total:.2f}%)\");\n",
        "        if \"Ativo\" in coluna:\n",
        "            df_investidores[coluna] = df_investidores[coluna].fillna(0);\n",
        "        elif \"Nota\" in coluna:\n",
        "            media_simples=df_investidores[coluna].mean();\n",
        "            df_investidores[coluna] = df_investidores[coluna].fillna(media_simples);\n",
        "\n",
        "#print(df_cadastro_investimento_order_id.head(23));\n",
        "\n",
        "print(\"Escolhemos substituir os campos nulos referente aos 'Ativos' por 0, simbolizando que o investidor não tem nenhuma quantia investida naquele ativo.\");\n",
        "print(\"Escolhemos substituir os campos nulos referente às 'Notas' pela média de cada nota. Assim, o resultado final da média das notas não será afetado. Talvez fosse mais interessante adicionar alguns filtros à média, a fim de manter a média de cada nicho em vez da média geral. Mas, para isso, precisaríamos saber mais sobre a área específica e o objetivo das queries. Por outro lado, a média geral também é importante, então talvez fosse interessante não preencher os dados faltantes, mantendo os dados originais.\");"
      ]
    },
    {
      "cell_type": "markdown",
      "id": "85ae4e81",
      "metadata": {
        "id": "85ae4e81"
      },
      "source": [
        "## 7 - Manipule os dados a seguir:\n",
        "- Criar coluna \"Total\" somando o valor de todos os ativos por investidor\n",
        "- Criar coluna \"Media\" com a média das notas 1 e 2\n",
        "- Criar coluna \"Dominio\" com apenas o domínio do email (dica: separar por @)\n",
        "- Mudar o nome da coluna \"Salário\" para \"Renda\" e tratar a coluna (sem caracter $ e tipo numérica)\n",
        "- Mudar os dados da coluna \"Sexo\" para Masculino e Feminino (tente usar o map)\n",
        "- Transformar os dados da coluna Media em inteiro\n",
        "- Criar coluna \"NPS\" onde o investidor é promotor se a média das notas é maior igual a 80, neutro se a média estiver entre 50 e 80, e detrator se for abaixo de 50\n"
      ]
    },
    {
      "cell_type": "code",
      "execution_count": 248,
      "id": "0570d688",
      "metadata": {
        "id": "0570d688"
      },
      "outputs": [
        {
          "name": "stdout",
          "output_type": "stream",
          "text": [
            "id\n",
            "id0000001    45\n",
            "id0000002    67\n",
            "id0000003    55\n",
            "id0000004    56\n",
            "id0000005    24\n",
            "             ..\n",
            "id0038750    37\n",
            "id0038751    85\n",
            "id0038752    27\n",
            "id0038753    77\n",
            "id0038754    39\n",
            "Name: Media, Length: 38754, dtype: int8 id\n",
            "id0000001    detrator\n",
            "id0000002      neutro\n",
            "id0000003      neutro\n",
            "id0000004      neutro\n",
            "id0000005    detrator\n",
            "               ...   \n",
            "id0038750    detrator\n",
            "id0038751    promotor\n",
            "id0038752    detrator\n",
            "id0038753      neutro\n",
            "id0038754    detrator\n",
            "Name: NPS, Length: 38754, dtype: object\n"
          ]
        }
      ],
      "source": [
        "import numpy as np;\n",
        "from functools import reduce;\n",
        "\n",
        "#Item 1: Criamos uma coluna \"Total\" para o total dos ativos, a soma deles. Criamos a lista dos campos \"Ativo0%i\" usando reduce e atribuimos à coluna durante sua criação.\n",
        "qtd_ativos=6;\n",
        "df_investidores['Total']=reduce(lambda x,y: x+y, [df_investidores['Ativo0'+str(i)] for i in np.arange(1,qtd_ativos+1)]);\n",
        "\n",
        "#Item 2: Criamos uma coluna \"Media\" para a média das notas. Também criamos a lista dos campos de nota usando reduce. Caso a quantidade de ativos e/ou notas mude frequentemente, poderíamos percorrer os campos procurando pelos que começam com \"notas\" e \"ativos\" em vez de definir o número manualmente como fizemos aqui.\n",
        "qtd_notas=2;\n",
        "df_investidores['Media']=reduce(lambda x,y: x+y, [df_investidores['Nota'+str(i)] for i in np.arange(1,qtd_notas+1)])/qtd_notas;\n",
        "\n",
        "#Item 3: Para separar o domínio do e-mail, fizemos um split da coluna e-mail usando o \"@\" como separador e colocamos numa matriz de numpy. Selecionamos todas as linhas dessa matriz na coluna 1 (a matriz tinha duas colunas: A primeira tinha o endereço antes do @ e a segunda tinha o domínio). Colocamos esse subarray na coluna \"Dominio\" do dataframe.  \n",
        "df_investidores['Dominio']=np.array(df_investidores['Email'].str.split('@', expand=True).values)[:,[1]];\n",
        "\n",
        "#Item 4: Primeiro renomeamos a coluna \"Salario\" para \"Renda\". Depois, apagamos os \"$\" da coluna Renda e a transformamos em numérica. Colocamos a alteração dentro de um \"if\" para não levantar um erro de tipo sempre que rodamos essa célula sozinha.\n",
        "df_investidores.rename(columns={'Salario':'Renda'}, inplace=True);\n",
        "if (df_investidores.dtypes['Renda']==object):\n",
        "    df_investidores['Renda']=pd.to_numeric(df_investidores['Renda'].str.replace('$', '',regex=False));\n",
        "#print(df_investidores['Renda']);\n",
        "\n",
        "#Item 5: Usamos a função \"map\" para trocar \"Fem\" por \"Feminino\" e \"Masc\" por \"Masculino\" e atribuimos o resultado à coluna \"Sexo\" já existente.\n",
        "df_investidores['Sexo']=df_investidores['Sexo'].map({'Fem': 'Feminino', 'Masc': 'Masculino'});\n",
        "#print(df_investidores['Sexo']);\n",
        "\n",
        "#Item 6: Primeiro, arredondamos a média e depois transformamos a coluna para inteiro.\n",
        "df_investidores['Media']=pd.to_numeric(df_investidores['Media'].round(), downcast='integer');\n",
        "#print(df_investidores['Media']);\n",
        "\n",
        "#Item 7: Primeiro criamos uma função para definir que título cada investidor receberá de acordo com a nota. A função depende do dicionário dict_NPS, que possui a nota mínima para que cada investidor tenha cada título. Após isso, usamos a função \"apply\" do Pandas para aplicar a função a cada elemento da média e guardamos o resultado dessa aplicação no novo campo \"NPS\". Vale lembrar que como arredondamos as médias, os clientes que deram notas cuja média foi calculada em 79.6 entraram como promotores. Caso não seja esse o objetivo, poderíamos ter usado floor em vez de round no item 6.\n",
        "dict_NPS={'promotor':80,'neutro':50,'detrator':0}; \n",
        "def definir_NPS(media):\n",
        "    for i in dict_NPS:\n",
        "        if media>=dict_NPS[i]:\n",
        "            return i; \n",
        "\n",
        "df_investidores['NPS']=df_investidores['Media'].apply(definir_NPS);\n",
        "#print(df_investidores['Media'],df_investidores['NPS']);\n",
        "print(df_investidores);"
      ]
    },
    {
      "cell_type": "markdown",
      "id": "767fc018",
      "metadata": {
        "id": "767fc018"
      },
      "source": [
        "## 8 - Calcule os seguintes dados\n",
        "- Calcule o total investido em cada coluna Ativo (tente usar o apply)\n",
        "- Qual o menor valor investido em cada ativo?\n",
        "- Mostre a média e desvio padrão de cada ativo\n",
        "- Qual a idade do investidor mais velho?\n",
        "- Qual a mediana da coluna Média?"
      ]
    },
    {
      "cell_type": "code",
      "execution_count": null,
      "id": "992d886b",
      "metadata": {
        "id": "992d886b"
      },
      "outputs": [],
      "source": []
    },
    {
      "cell_type": "markdown",
      "id": "0f074caf",
      "metadata": {
        "id": "0f074caf"
      },
      "source": [
        "## 9 - Responder as perguntas abaixo\n",
        "\n",
        "- Quantos investidores são promotores?\n",
        "- Quantos investidores são do sexo feminino?\n",
        "- Quantos investidores investiram mais de 16000 no Ativo04?\n",
        "- Quantos investidores investiram mais de 16000 no Ativo04 e menos de 5000 no Ativo05?\n",
        "- Quantos investidores do sexo feminino tem mais de 25 anos e investiu menos de 10000? (bonus: por que esse dado seria importante para a estratégia da nossa empresa?\n",
        "\n",
        "- Quantos investidores tem em cada estado (dica: use groupby)\n",
        "- Qual é a soma do total investido por cada estado?\n",
        "- Como os investidores se distribuem em promotores, detratores e neutros?\n",
        "- Qual é a média do total investido por promotores, detratores e neutros?\n"
      ]
    },
    {
      "cell_type": "code",
      "execution_count": null,
      "id": "G6L0Qjjgyz1L",
      "metadata": {
        "id": "G6L0Qjjgyz1L"
      },
      "outputs": [],
      "source": []
    }
  ],
  "metadata": {
    "colab": {
      "provenance": []
    },
    "kernelspec": {
      "display_name": "Python 3",
      "language": "python",
      "name": "python3"
    },
    "language_info": {
      "codemirror_mode": {
        "name": "ipython",
        "version": 3
      },
      "file_extension": ".py",
      "mimetype": "text/x-python",
      "name": "python",
      "nbconvert_exporter": "python",
      "pygments_lexer": "ipython3",
      "version": "3.11.1"
    },
    "varInspector": {
      "cols": {
        "lenName": 16,
        "lenType": 16,
        "lenVar": 40
      },
      "kernels_config": {
        "python": {
          "delete_cmd_postfix": "",
          "delete_cmd_prefix": "del ",
          "library": "var_list.py",
          "varRefreshCmd": "print(var_dic_list())"
        },
        "r": {
          "delete_cmd_postfix": ") ",
          "delete_cmd_prefix": "rm(",
          "library": "var_list.r",
          "varRefreshCmd": "cat(var_dic_list()) "
        }
      },
      "types_to_exclude": [
        "module",
        "function",
        "builtin_function_or_method",
        "instance",
        "_Feature"
      ],
      "window_display": false
    }
  },
  "nbformat": 4,
  "nbformat_minor": 5
}
