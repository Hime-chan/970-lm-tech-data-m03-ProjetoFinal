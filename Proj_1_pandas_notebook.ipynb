{
  "cells": [
    {
      "attachments": {},
      "cell_type": "markdown",
      "id": "8030d55b",
      "metadata": {
        "id": "8030d55b"
      },
      "source": [
        "# Projeto Técnicas de programação I\n",
        "\n",
        "## Análise exploratória de dados/Pandas\n",
        "\n",
        "Nomes:\n",
        "- Álvaro Antônio Fonseca De Souza\n",
        "- Claudia Cavalcante Fonseca\n",
        "- Roulien Roland Martins Ribeiro\n",
        "\n",
        "Turma: 970 LM Tech Data Talents \n"
      ]
    },
    {
      "cell_type": "markdown",
      "id": "9d476103",
      "metadata": {
        "id": "9d476103"
      },
      "source": [
        "Nesse projeto trabalharemos com dados fictícios de investidores.\n",
        "\n",
        "São 3 arquivos que devem ser carregados para responder as perguntas abaixo.\n",
        "\n",
        "Para a entrega, coloque o notebook respondido no seu github (um por grupo)!"
      ]
    },
    {
      "cell_type": "markdown",
      "id": "ff348160",
      "metadata": {
        "id": "ff348160"
      },
      "source": [
        "Informações\n",
        "\n",
        "Cadastro:\n",
        "- **id** : Identificação do investidor\n",
        "- **Nome** : Nome completo do investidor \n",
        "- **Sexo** : Feminino ou masculino\n",
        "- **Nasc** : Data de nascimento\n",
        "- **Idade** : Idade do investidor \n",
        "- **Email** : E-mail do investidor\n",
        "- **Lat_long** : Dados geográficos do investidor\n",
        "- **Job** : Profisão do investidor ou do seu responsável (em inglês)\n",
        "- **Estado** : Estado onde o investidor reside\n",
        "\n",
        "Investimento:\n",
        "- **id** : Identificação do investidor\n",
        "- **Salario** : Renda do investidor ou seu responsável\n",
        "- **Perfil** : Perfil de investimento\n",
        "- **Ativo01, Ativo02, Ativo03, Ativo04, Ativo05, Ativo06, Ativo07** : O quanto de dinheiro o investidor colocou em cada ativo\n",
        "- **Nota1, Nota2** : O quanto o investidor está satisfeito com nossa empresa (2 avaliações)\n",
        "\n",
        "Lembrando que esses dados são irreais e fictícios\n"
      ]
    },
    {
      "cell_type": "markdown",
      "id": "2c93ad4b",
      "metadata": {
        "id": "2c93ad4b"
      },
      "source": [
        "Arquivo cadastro.csv\n",
        "\n",
        "\n",
        "Arquivo investimento.csv (dividido em 2 partes)"
      ]
    },
    {
      "cell_type": "markdown",
      "id": "ebdf2a14",
      "metadata": {
        "id": "ebdf2a14"
      },
      "source": [
        "### Critérios de avaliação\n",
        "\n",
        "Os seguintes itens serão avaliados:\n",
        "\n",
        "1. Reprodutibilidade do código: seu código será executado e precisa gerar os mesmos resultados apresentados por você;\n",
        "\n",
        "2. Clareza: seu código precisa ser claro e deve existir uma linha de raciocínio direta. Comente o código em pontos que julgar necessário para o entendimento total;\n",
        "\n",
        "3. Explicação de todos os processos feitos e decisões tomadas\n",
        "\n",
        "## Informações Gerais sobre o Projeto\n",
        "\n",
        "- O projeto poderá ser desenvolvido __individualmente__ ou em __grupos com até 4 pessoas__, caos façam em grupos enviar a relação de alunos do grupo para o professor;\n",
        "\n",
        "\n",
        "- Data de Entrega: 14/04/2023;\n",
        "\n",
        "- Entrega: Através do _Class_\n",
        "\n",
        "\n",
        "\n"
      ]
    },
    {
      "cell_type": "markdown",
      "id": "4ceb5d96",
      "metadata": {
        "id": "4ceb5d96"
      },
      "source": [
        "## 1 - Carregar os arquivos e cadastro, investimento1 e investimento2 e mostrar a quantidade de linhas de cada um, além das informações desses dataframes"
      ]
    },
    {
      "cell_type": "code",
      "execution_count": 1,
      "id": "61c059ab",
      "metadata": {
        "ExecuteTime": {
          "end_time": "2021-08-16T13:30:14.809532Z",
          "start_time": "2021-08-16T13:30:14.801117Z"
        },
        "id": "61c059ab"
      },
      "outputs": [
        {
          "name": "stdout",
          "output_type": "stream",
          "text": [
            "Arquivo:  cadastro.csv\n",
            "38754  linhas\n",
            "<class 'pandas.core.frame.DataFrame'>\n",
            "RangeIndex: 38754 entries, 0 to 38753\n",
            "Data columns (total 9 columns):\n",
            " #   Column    Non-Null Count  Dtype \n",
            "---  ------    --------------  ----- \n",
            " 0   id        38754 non-null  object\n",
            " 1   Nome      38754 non-null  object\n",
            " 2   Sexo      38754 non-null  object\n",
            " 3   Nasc      38754 non-null  object\n",
            " 4   Idade     38754 non-null  int64 \n",
            " 5   Email     38754 non-null  object\n",
            " 6   Lat_long  38754 non-null  object\n",
            " 7   Job       38754 non-null  object\n",
            " 8   Estado    38754 non-null  object\n",
            "dtypes: int64(1), object(8)\n",
            "memory usage: 2.7+ MB\n",
            "None\n",
            "Arquivo:  investimento_parte1.csv\n",
            "20000  linhas\n",
            "<class 'pandas.core.frame.DataFrame'>\n",
            "RangeIndex: 20000 entries, 0 to 19999\n",
            "Data columns (total 12 columns):\n",
            " #   Column   Non-Null Count  Dtype  \n",
            "---  ------   --------------  -----  \n",
            " 0   id       20000 non-null  object \n",
            " 1   Salario  20000 non-null  object \n",
            " 2   Perfil   20000 non-null  object \n",
            " 3   Ativo01  15012 non-null  float64\n",
            " 4   Ativo02  16857 non-null  float64\n",
            " 5   Ativo03  16760 non-null  float64\n",
            " 6   Ativo04  13799 non-null  float64\n",
            " 7   Ativo05  16829 non-null  float64\n",
            " 8   Ativo06  9895 non-null   float64\n",
            " 9   Ativo07  20000 non-null  float64\n",
            " 10  Nota1    18469 non-null  float64\n",
            " 11  Nota2    18954 non-null  float64\n",
            "dtypes: float64(9), object(3)\n",
            "memory usage: 1.8+ MB\n",
            "None\n",
            "Arquivo:  investimento_parte2.csv\n",
            "24052  linhas\n",
            "<class 'pandas.core.frame.DataFrame'>\n",
            "RangeIndex: 24052 entries, 0 to 24051\n",
            "Data columns (total 12 columns):\n",
            " #   Column   Non-Null Count  Dtype  \n",
            "---  ------   --------------  -----  \n",
            " 0   id       24052 non-null  object \n",
            " 1   Salario  24052 non-null  object \n",
            " 2   Perfil   24052 non-null  object \n",
            " 3   Ativo01  17994 non-null  float64\n",
            " 4   Ativo02  20245 non-null  float64\n",
            " 5   Ativo03  20249 non-null  float64\n",
            " 6   Ativo04  16685 non-null  float64\n",
            " 7   Ativo05  20211 non-null  float64\n",
            " 8   Ativo06  11932 non-null  float64\n",
            " 9   Ativo07  24052 non-null  float64\n",
            " 10  Nota1    22172 non-null  float64\n",
            " 11  Nota2    22810 non-null  float64\n",
            "dtypes: float64(9), object(3)\n",
            "memory usage: 2.2+ MB\n",
            "None\n"
          ]
        }
      ],
      "source": [
        "import pandas as pd\n",
        "import datetime as dt\n",
        "pd.set_option(\"display.max_columns\", 100);\n",
        "\n",
        "arquivos = [\"cadastro.csv\",\"investimento_parte1.csv\",\"investimento_parte2.csv\"];\n",
        "dataframes = [pd.read_table(arquivo, delimiter =\",\") for arquivo in arquivos];\n",
        "df_cadastro, df_investimento1, df_investimento2 = dataframes;\n",
        "\n",
        "for arquivo,dataframe in zip(arquivos,dataframes):\n",
        "    print(\"Arquivo: \",arquivo);\n",
        "    print(len(dataframe.index),\" linhas\");\n",
        "    print(dataframe.info());\n"
      ]
    },
    {
      "cell_type": "markdown",
      "id": "de88ae37",
      "metadata": {
        "id": "de88ae37"
      },
      "source": [
        "## 2 - Juntar os dataframes de investimento1 e investimento2 em um só e ver a quantidade de linhas"
      ]
    },
    {
      "cell_type": "code",
      "execution_count": 2,
      "id": "e2c363da",
      "metadata": {
        "id": "e2c363da"
      },
      "outputs": [
        {
          "name": "stdout",
          "output_type": "stream",
          "text": [
            "44052\n"
          ]
        }
      ],
      "source": [
        "df_investimento = pd.concat([df_investimento1, df_investimento2])\n",
        "print(len(df_investimento.index))"
      ]
    },
    {
      "cell_type": "markdown",
      "id": "9a49fb0d",
      "metadata": {
        "id": "9a49fb0d"
      },
      "source": [
        "## 3 - Crie um novo dataframe eliminando as linhas duplicadas"
      ]
    },
    {
      "cell_type": "code",
      "execution_count": 3,
      "id": "9d26e5d9",
      "metadata": {
        "id": "9d26e5d9"
      },
      "outputs": [],
      "source": [
        "df_investimento_unicos = df_investimento.drop_duplicates()\n",
        "#print(len(df_investimento_unicos['id']))"
      ]
    },
    {
      "cell_type": "markdown",
      "id": "d5c4abc4",
      "metadata": {
        "id": "d5c4abc4"
      },
      "source": [
        "## 4 - Junte o dataframe de investimento com o de cadastro\n",
        "Dica: use a chave id"
      ]
    },
    {
      "cell_type": "code",
      "execution_count": 4,
      "id": "f21d58b4",
      "metadata": {
        "id": "f21d58b4"
      },
      "outputs": [
        {
          "data": {
            "text/html": [
              "<div>\n",
              "<style scoped>\n",
              "    .dataframe tbody tr th:only-of-type {\n",
              "        vertical-align: middle;\n",
              "    }\n",
              "\n",
              "    .dataframe tbody tr th {\n",
              "        vertical-align: top;\n",
              "    }\n",
              "\n",
              "    .dataframe thead th {\n",
              "        text-align: right;\n",
              "    }\n",
              "</style>\n",
              "<table border=\"1\" class=\"dataframe\">\n",
              "  <thead>\n",
              "    <tr style=\"text-align: right;\">\n",
              "      <th></th>\n",
              "      <th>id</th>\n",
              "      <th>Nome</th>\n",
              "      <th>Sexo</th>\n",
              "      <th>Nasc</th>\n",
              "      <th>Idade</th>\n",
              "      <th>Email</th>\n",
              "      <th>Lat_long</th>\n",
              "      <th>Job</th>\n",
              "      <th>Estado</th>\n",
              "      <th>Salario</th>\n",
              "      <th>Perfil</th>\n",
              "      <th>Ativo01</th>\n",
              "      <th>Ativo02</th>\n",
              "      <th>Ativo03</th>\n",
              "      <th>Ativo04</th>\n",
              "      <th>Ativo05</th>\n",
              "      <th>Ativo06</th>\n",
              "      <th>Ativo07</th>\n",
              "      <th>Nota1</th>\n",
              "      <th>Nota2</th>\n",
              "    </tr>\n",
              "  </thead>\n",
              "  <tbody>\n",
              "    <tr>\n",
              "      <th>0</th>\n",
              "      <td>id0000001</td>\n",
              "      <td>Eunice Hellen do Vale</td>\n",
              "      <td>Fem</td>\n",
              "      <td>1970-11-12</td>\n",
              "      <td>51</td>\n",
              "      <td>djones@yahoo.com</td>\n",
              "      <td>(Decimal('24.7024355'), Decimal('-28.038258'))</td>\n",
              "      <td>Technical author</td>\n",
              "      <td>TO</td>\n",
              "      <td>$63.67</td>\n",
              "      <td>Moderado</td>\n",
              "      <td>1174.27</td>\n",
              "      <td>4980.98</td>\n",
              "      <td>2638.24</td>\n",
              "      <td>NaN</td>\n",
              "      <td>4480.91</td>\n",
              "      <td>2329.72</td>\n",
              "      <td>480.72</td>\n",
              "      <td>79.600372</td>\n",
              "      <td>9.802620</td>\n",
              "    </tr>\n",
              "    <tr>\n",
              "      <th>1</th>\n",
              "      <td>id0000002</td>\n",
              "      <td>Sebastião Castelo Branco Júnior</td>\n",
              "      <td>Masc</td>\n",
              "      <td>2019-12-10</td>\n",
              "      <td>2</td>\n",
              "      <td>barnesandrea@yahoo.com</td>\n",
              "      <td>(Decimal('21.8589875'), Decimal('122.830566'))</td>\n",
              "      <td>Biochemist, clinical</td>\n",
              "      <td>DF</td>\n",
              "      <td>$21.96</td>\n",
              "      <td>Moderado</td>\n",
              "      <td>842.12</td>\n",
              "      <td>5646.09</td>\n",
              "      <td>3336.07</td>\n",
              "      <td>NaN</td>\n",
              "      <td>5624.22</td>\n",
              "      <td>2669.98</td>\n",
              "      <td>504.17</td>\n",
              "      <td>44.406893</td>\n",
              "      <td>90.512871</td>\n",
              "    </tr>\n",
              "    <tr>\n",
              "      <th>2</th>\n",
              "      <td>id0000003</td>\n",
              "      <td>Romildo Fábio de Carvalho</td>\n",
              "      <td>Masc</td>\n",
              "      <td>2015-12-28</td>\n",
              "      <td>6</td>\n",
              "      <td>walkermichael@yahoo.com</td>\n",
              "      <td>(Decimal('-28.2161525'), Decimal('97.140529'))</td>\n",
              "      <td>Development worker, international aid</td>\n",
              "      <td>DF</td>\n",
              "      <td>$62497.64</td>\n",
              "      <td>Agressivo</td>\n",
              "      <td>818.81</td>\n",
              "      <td>5516.52</td>\n",
              "      <td>3396.64</td>\n",
              "      <td>NaN</td>\n",
              "      <td>5033.83</td>\n",
              "      <td>2229.45</td>\n",
              "      <td>523.12</td>\n",
              "      <td>44.020024</td>\n",
              "      <td>65.060941</td>\n",
              "    </tr>\n",
              "    <tr>\n",
              "      <th>3</th>\n",
              "      <td>id0000004</td>\n",
              "      <td>Lana Albina de Lemos Mumy</td>\n",
              "      <td>Fem</td>\n",
              "      <td>1993-05-03</td>\n",
              "      <td>28</td>\n",
              "      <td>cobbangela@hotmail.com</td>\n",
              "      <td>(Decimal('-40.8557635'), Decimal('-2.936099'))</td>\n",
              "      <td>Estate manager/land agent</td>\n",
              "      <td>DF</td>\n",
              "      <td>$99878.74</td>\n",
              "      <td>Agressivo</td>\n",
              "      <td>NaN</td>\n",
              "      <td>5258.69</td>\n",
              "      <td>3723.10</td>\n",
              "      <td>NaN</td>\n",
              "      <td>5933.91</td>\n",
              "      <td>NaN</td>\n",
              "      <td>486.05</td>\n",
              "      <td>25.597924</td>\n",
              "      <td>86.548918</td>\n",
              "    </tr>\n",
              "    <tr>\n",
              "      <th>4</th>\n",
              "      <td>id0000005</td>\n",
              "      <td>Rose Elisângela Vyrnium de Moura</td>\n",
              "      <td>Fem</td>\n",
              "      <td>1984-06-10</td>\n",
              "      <td>37</td>\n",
              "      <td>crawfordcraig@yahoo.com</td>\n",
              "      <td>(Decimal('-20.2620885'), Decimal('104.349223'))</td>\n",
              "      <td>Chartered public finance accountant</td>\n",
              "      <td>MS</td>\n",
              "      <td>$188.01</td>\n",
              "      <td>Conservador</td>\n",
              "      <td>1505.16</td>\n",
              "      <td>6415.30</td>\n",
              "      <td>3462.67</td>\n",
              "      <td>30841.35</td>\n",
              "      <td>6044.86</td>\n",
              "      <td>2198.89</td>\n",
              "      <td>512.98</td>\n",
              "      <td>14.463307</td>\n",
              "      <td>33.566292</td>\n",
              "    </tr>\n",
              "  </tbody>\n",
              "</table>\n",
              "</div>"
            ],
            "text/plain": [
              "          id                              Nome  Sexo        Nasc  Idade  \\\n",
              "0  id0000001             Eunice Hellen do Vale   Fem  1970-11-12     51   \n",
              "1  id0000002   Sebastião Castelo Branco Júnior  Masc  2019-12-10      2   \n",
              "2  id0000003         Romildo Fábio de Carvalho  Masc  2015-12-28      6   \n",
              "3  id0000004         Lana Albina de Lemos Mumy   Fem  1993-05-03     28   \n",
              "4  id0000005  Rose Elisângela Vyrnium de Moura   Fem  1984-06-10     37   \n",
              "\n",
              "                     Email                                         Lat_long  \\\n",
              "0         djones@yahoo.com   (Decimal('24.7024355'), Decimal('-28.038258'))   \n",
              "1   barnesandrea@yahoo.com   (Decimal('21.8589875'), Decimal('122.830566'))   \n",
              "2  walkermichael@yahoo.com   (Decimal('-28.2161525'), Decimal('97.140529'))   \n",
              "3   cobbangela@hotmail.com   (Decimal('-40.8557635'), Decimal('-2.936099'))   \n",
              "4  crawfordcraig@yahoo.com  (Decimal('-20.2620885'), Decimal('104.349223'))   \n",
              "\n",
              "                                     Job Estado    Salario       Perfil  \\\n",
              "0                       Technical author     TO     $63.67     Moderado   \n",
              "1                   Biochemist, clinical     DF     $21.96     Moderado   \n",
              "2  Development worker, international aid     DF  $62497.64    Agressivo   \n",
              "3              Estate manager/land agent     DF  $99878.74    Agressivo   \n",
              "4    Chartered public finance accountant     MS    $188.01  Conservador   \n",
              "\n",
              "   Ativo01  Ativo02  Ativo03   Ativo04  Ativo05  Ativo06  Ativo07      Nota1  \\\n",
              "0  1174.27  4980.98  2638.24       NaN  4480.91  2329.72   480.72  79.600372   \n",
              "1   842.12  5646.09  3336.07       NaN  5624.22  2669.98   504.17  44.406893   \n",
              "2   818.81  5516.52  3396.64       NaN  5033.83  2229.45   523.12  44.020024   \n",
              "3      NaN  5258.69  3723.10       NaN  5933.91      NaN   486.05  25.597924   \n",
              "4  1505.16  6415.30  3462.67  30841.35  6044.86  2198.89   512.98  14.463307   \n",
              "\n",
              "       Nota2  \n",
              "0   9.802620  \n",
              "1  90.512871  \n",
              "2  65.060941  \n",
              "3  86.548918  \n",
              "4  33.566292  "
            ]
          },
          "execution_count": 4,
          "metadata": {},
          "output_type": "execute_result"
        }
      ],
      "source": [
        "\n",
        "df_cadastro_investimento = pd.merge(df_cadastro, df_investimento_unicos, how = 'inner', on = 'id')\n",
        "#print(len(df_cadastro_investimento['id']))\n",
        "df_cadastro_investimento.head()"
      ]
    },
    {
      "cell_type": "markdown",
      "id": "0ce78c5c",
      "metadata": {
        "ExecuteTime": {
          "end_time": "2021-08-16T13:13:10.973171Z",
          "start_time": "2021-08-16T13:13:10.961165Z"
        },
        "id": "0ce78c5c"
      },
      "source": [
        "## 5 - Ordene o dataframe pelo id, de forma crescente e redefina o índice"
      ]
    },
    {
      "cell_type": "code",
      "execution_count": 8,
      "id": "4d97062c",
      "metadata": {
        "id": "4d97062c"
      },
      "outputs": [
        {
          "name": "stdout",
          "output_type": "stream",
          "text": [
            "                                               Nome  Sexo        Nasc  Idade  \\\n",
            "id                                                                             \n",
            "id0000001                     Eunice Hellen do Vale   Fem  1970-11-12     51   \n",
            "id0000002           Sebastião Castelo Branco Júnior  Masc  2019-12-10      2   \n",
            "id0000003                 Romildo Fábio de Carvalho  Masc  2015-12-28      6   \n",
            "id0000004                 Lana Albina de Lemos Mumy   Fem  1993-05-03     28   \n",
            "id0000005          Rose Elisângela Vyrnium de Moura   Fem  1984-06-10     37   \n",
            "id0000006   Osório Mário de Parreira Sassoer Otremo  Masc  1999-07-02     22   \n",
            "id0000007                       Andressa de Menezes   Fem  2000-03-09     21   \n",
            "id0000008                            Roger da Silva  Masc  2012-12-04      9   \n",
            "id0000009                           Paulo de Toledo  Masc  1996-12-05     25   \n",
            "id0000010                    Quirino Max dos Santos  Masc  1974-02-08     47   \n",
            "id0000011                              Susan Espada   Fem  1998-08-10     23   \n",
            "id0000012                  Omar Cirilo da Conceição  Masc  1983-03-29     38   \n",
            "id0000013  Walter Nilo Dereson de Torquato Trevisan  Masc  1973-10-27     48   \n",
            "id0000014                         Eunice Couto Utre   Fem  2016-08-16      5   \n",
            "id0000015     Shirley Magali dos Santos Ilil Brasil   Fem  1985-09-25     36   \n",
            "id0000016       Sílvio Baltazar da Costa dos Santos  Masc  1989-07-01     32   \n",
            "id0000017         Washington Décio Miveman de Leite  Masc  1983-01-16     38   \n",
            "id0000018           Edivaldo Silvair de França Peke  Masc  1978-06-22     43   \n",
            "id0000019              Hellen de Teixeira Ezelimman   Fem  1991-05-31     30   \n",
            "id0000020                     Albina Lúcia da Silva   Fem  1994-05-02     27   \n",
            "\n",
            "                               Email  \\\n",
            "id                                     \n",
            "id0000001           djones@yahoo.com   \n",
            "id0000002     barnesandrea@yahoo.com   \n",
            "id0000003    walkermichael@yahoo.com   \n",
            "id0000004     cobbangela@hotmail.com   \n",
            "id0000005    crawfordcraig@yahoo.com   \n",
            "id0000006  ramirezjennifer@yahoo.com   \n",
            "id0000007         pdouglas@yahoo.com   \n",
            "id0000008         idavis@hotmail.com   \n",
            "id0000009      raymonderic@gmail.com   \n",
            "id0000010        patrick65@yahoo.com   \n",
            "id0000011        louis80@hotmail.com   \n",
            "id0000012  charlestaylor@hotmail.com   \n",
            "id0000013     susananthony@yahoo.com   \n",
            "id0000014          jason83@yahoo.com   \n",
            "id0000015          ulevine@yahoo.com   \n",
            "id0000016     carterashley@yahoo.com   \n",
            "id0000017       loribush@hotmail.com   \n",
            "id0000018          jason73@yahoo.com   \n",
            "id0000019     bakermichael@gmail.com   \n",
            "id0000020     williamcooke@yahoo.com   \n",
            "\n",
            "                                                   Lat_long  \\\n",
            "id                                                            \n",
            "id0000001    (Decimal('24.7024355'), Decimal('-28.038258'))   \n",
            "id0000002    (Decimal('21.8589875'), Decimal('122.830566'))   \n",
            "id0000003    (Decimal('-28.2161525'), Decimal('97.140529'))   \n",
            "id0000004    (Decimal('-40.8557635'), Decimal('-2.936099'))   \n",
            "id0000005   (Decimal('-20.2620885'), Decimal('104.349223'))   \n",
            "id0000006     (Decimal('74.407059'), Decimal('-24.460973'))   \n",
            "id0000007  (Decimal('-15.3220025'), Decimal('-143.141478'))   \n",
            "id0000008     (Decimal('26.852207'), Decimal('154.834424'))   \n",
            "id0000009     (Decimal('6.098341'), Decimal('-156.689139'))   \n",
            "id0000010     (Decimal('37.9226295'), Decimal('30.582043'))   \n",
            "id0000011      (Decimal('36.023380'), Decimal('-7.012638'))   \n",
            "id0000012   (Decimal('-25.776223'), Decimal('-113.289321'))   \n",
            "id0000013    (Decimal('24.775200'), Decimal('-145.389694'))   \n",
            "id0000014    (Decimal('-3.3468495'), Decimal('-92.684000'))   \n",
            "id0000015     (Decimal('53.713752'), Decimal('-26.655324'))   \n",
            "id0000016    (Decimal('-45.978957'), Decimal('-21.700752'))   \n",
            "id0000017    (Decimal('88.021268'), Decimal('-108.458187'))   \n",
            "id0000018       (Decimal('5.382705'), Decimal('47.110770'))   \n",
            "id0000019     (Decimal('-68.426187'), Decimal('-3.374860'))   \n",
            "id0000020     (Decimal('58.271773'), Decimal('178.779767'))   \n",
            "\n",
            "                                             Job Estado    Salario  \\\n",
            "id                                                                   \n",
            "id0000001                       Technical author     TO     $63.67   \n",
            "id0000002                   Biochemist, clinical     DF     $21.96   \n",
            "id0000003  Development worker, international aid     DF  $62497.64   \n",
            "id0000004              Estate manager/land agent     DF  $99878.74   \n",
            "id0000005    Chartered public finance accountant     MS    $188.01   \n",
            "id0000006                              Press sub     MS    $375.93   \n",
            "id0000007                        Learning mentor     RO      $9.26   \n",
            "id0000008           Garment/textile technologist     RS      $1.13   \n",
            "id0000009           Designer, exhibition/display     DF    $557.91   \n",
            "id0000010                             Air broker     RR    $801.24   \n",
            "id0000011                        Producer, radio     RR   $6409.88   \n",
            "id0000012                              Archivist     CE    $444.62   \n",
            "id0000013       Surveyor, commercial/residential     MA     $46.69   \n",
            "id0000014             Civil engineer, consulting     PB     $68.97   \n",
            "id0000015                 Engineer, aeronautical     PA  $52421.54   \n",
            "id0000016                                Curator     MG      $6.89   \n",
            "id0000017               Plant breeder/geneticist     MT     $32.66   \n",
            "id0000018           Conservation officer, nature     RR   $9116.26   \n",
            "id0000019           Designer, industrial/product     AC   $7049.67   \n",
            "id0000020             Further education lecturer     AC      $9.84   \n",
            "\n",
            "                Perfil  Ativo01  Ativo02  Ativo03   Ativo04  Ativo05  Ativo06  \\\n",
            "id                                                                              \n",
            "id0000001     Moderado  1174.27  4980.98  2638.24       NaN  4480.91  2329.72   \n",
            "id0000002     Moderado   842.12  5646.09  3336.07       NaN  5624.22  2669.98   \n",
            "id0000003    Agressivo   818.81  5516.52  3396.64       NaN  5033.83  2229.45   \n",
            "id0000004    Agressivo      NaN  5258.69  3723.10       NaN  5933.91      NaN   \n",
            "id0000005  Conservador  1505.16  6415.30  3462.67  30841.35  6044.86  2198.89   \n",
            "id0000006    Agressivo   858.43  5628.75      NaN  13431.14  4409.81      NaN   \n",
            "id0000007     Moderado   807.29  5160.75  3257.88  22760.80  6342.31  2450.48   \n",
            "id0000008    Agressivo      NaN  4538.11  3199.12  16247.26      NaN  2282.50   \n",
            "id0000009    Agressivo  1166.91  4636.14  3430.73  18690.63  5040.74  2777.62   \n",
            "id0000010    Agressivo  1054.60  4753.33  3579.91  21298.94  4818.91  2027.57   \n",
            "id0000011     Moderado      NaN  5130.04  2925.34  23220.84  5157.39  2049.32   \n",
            "id0000012    Agressivo  1006.47  5217.88  3143.65   5799.14  5486.30      NaN   \n",
            "id0000013  Conservador  1876.13  4657.72  3040.72       NaN  7040.24      NaN   \n",
            "id0000014    Agressivo      NaN  5656.93  3526.60       NaN  5476.60  2432.20   \n",
            "id0000015     Moderado  1187.21  5349.16  3253.68   8638.89  5151.24      NaN   \n",
            "id0000016    Agressivo  1125.35  4712.97  3525.08  19114.69  4207.58  2231.58   \n",
            "id0000017  Conservador      NaN  5056.66  3099.39  35984.01  5312.40  2016.40   \n",
            "id0000018  Conservador  1240.09      NaN  3011.56  10840.44  4171.06      NaN   \n",
            "id0000019     Moderado   986.04  4609.29  3679.42  18080.02  7146.23      NaN   \n",
            "id0000020    Agressivo   827.68  4560.12  2911.12  16411.54  5677.17  2286.66   \n",
            "\n",
            "           Ativo07      Nota1      Nota2  \n",
            "id                                        \n",
            "id0000001   480.72  79.600372   9.802620  \n",
            "id0000002   504.17  44.406893  90.512871  \n",
            "id0000003   523.12  44.020024  65.060941  \n",
            "id0000004   486.05  25.597924  86.548918  \n",
            "id0000005   512.98  14.463307  33.566292  \n",
            "id0000006   492.03  79.692402  76.804162  \n",
            "id0000007   490.12  11.933962  29.765772  \n",
            "id0000008   496.43  76.898096  43.554774  \n",
            "id0000009   500.43  45.322387  62.157044  \n",
            "id0000010   500.59  53.824813  10.415551  \n",
            "id0000011   498.78  68.001128   7.204497  \n",
            "id0000012   500.88  19.409556  94.967726  \n",
            "id0000013   494.46  59.022735   5.802289  \n",
            "id0000014   515.56  47.480025  55.242552  \n",
            "id0000015   492.34  41.598180  15.227546  \n",
            "id0000016   497.45  94.645555  60.630805  \n",
            "id0000017   503.70  12.950388  49.282343  \n",
            "id0000018   485.50  34.059700  61.151682  \n",
            "id0000019   507.71        NaN  62.656956  \n",
            "id0000020   487.55  41.485260  54.730773  \n"
          ]
        }
      ],
      "source": [
        "df_cadastro_investimento_order_id = df_cadastro_investimento.sort_values(by = 'id').set_index('id');\n",
        "\n",
        "print(df_cadastro_investimento_order_id.head(20));"
      ]
    },
    {
      "cell_type": "markdown",
      "id": "c22a9a29",
      "metadata": {
        "id": "c22a9a29"
      },
      "source": [
        "## 6 - Faça uma análise dos dados faltantes e trate-os\n",
        "\n",
        "Mostre todas as colunas com dados faltantes, sua quantidade/porcentagem e como tratar (preencher) cada uma delas explicando sua estratégia"
      ]
    },
    {
      "cell_type": "code",
      "execution_count": 6,
      "id": "c4bb5d14",
      "metadata": {
        "id": "c4bb5d14"
      },
      "outputs": [
        {
          "name": "stdout",
          "output_type": "stream",
          "text": [
            "- Ativo01\n",
            "Quantidade de faltantes: 9724 (25.09%)\n",
            "- Ativo02\n",
            "Quantidade de faltantes: 6100 (15.74%)\n",
            "- Ativo03\n",
            "Quantidade de faltantes: 6169 (15.92%)\n",
            "- Ativo04\n",
            "Quantidade de faltantes: 11887 (30.67%)\n",
            "- Ativo05\n",
            "Quantidade de faltantes: 6191 (15.98%)\n",
            "- Ativo06\n",
            "Quantidade de faltantes: 19514 (50.35%)\n",
            "- Nota1\n",
            "Quantidade de faltantes: 3000 (7.74%)\n",
            "- Nota2\n",
            "Quantidade de faltantes: 2000 (5.16%)\n",
            "Escolhemos substituir os campos nulos referente aos 'Ativos' por 0, simbolizando que o investidor não tem nenhuma quantia investida naquele ativo.\n",
            "Escolhemos substituir os campos nulos referente às 'Notas' pela média de cada nota. Assim, o resultado final da média das notas não será afetado. Talvez fosse mais interessante adicionar alguns filtros à média, a fim de manter a média de cada nicho em vez da média geral. Mas, para isso, precisaríamos saber mais sobre a área específica e o objetivo das queries. Por outro lado, a média geral também é importante, então talvez fosse interessante não preencher os dados faltantes, mantendo os dados originais.\n"
          ]
        }
      ],
      "source": [
        "#Filtrando faltantes\n",
        "faltantes=();\n",
        "\n",
        "for coluna in df_cadastro_investimento_order_id.columns:\n",
        "    qtd_faltantes= df_cadastro_investimento_order_id.loc[:,coluna].isna().sum();\n",
        "    qtd_total = len(df_cadastro_investimento_order_id.index);\n",
        "\n",
        "    if qtd_faltantes != 0:\n",
        "        print(f\"- {coluna}\\nQuantidade de faltantes: {qtd_faltantes} ({(qtd_faltantes*100)/qtd_total:.2f}%)\");\n",
        "        if \"Ativo\" in coluna:\n",
        "            df_cadastro_investimento_order_id[coluna] = df_cadastro_investimento_order_id[coluna].fillna(0);\n",
        "        elif \"Nota\" in coluna:\n",
        "            media_simples=df_cadastro_investimento_order_id[coluna].mean();\n",
        "            df_cadastro_investimento_order_id[coluna] = df_cadastro_investimento_order_id[coluna].fillna(media_simples);\n",
        "\n",
        "#print(df_cadastro_investimento_order_id.head(23));\n",
        "\n",
        "print(\"Escolhemos substituir os campos nulos referente aos 'Ativos' por 0, simbolizando que o investidor não tem nenhuma quantia investida naquele ativo.\");\n",
        "print(\"Escolhemos substituir os campos nulos referente às 'Notas' pela média de cada nota. Assim, o resultado final da média das notas não será afetado. Talvez fosse mais interessante adicionar alguns filtros à média, a fim de manter a média de cada nicho em vez da média geral. Mas, para isso, precisaríamos saber mais sobre a área específica e o objetivo das queries. Por outro lado, a média geral também é importante, então talvez fosse interessante não preencher os dados faltantes, mantendo os dados originais.\");"
      ]
    },
    {
      "cell_type": "markdown",
      "id": "85ae4e81",
      "metadata": {
        "id": "85ae4e81"
      },
      "source": [
        "## 7 - Manipule os dados a seguir:\n",
        "- Criar coluna \"Total\" somando o valor de todos os ativos por investidor\n",
        "- Criar coluna \"Media\" com a média das notas 1 e 2\n",
        "- Criar coluna \"Dominio\" com apenas o domínio do email (dica: separar por @)\n",
        "- Mudar o nome da coluna \"Salário\" para \"Renda\" e tratar a coluna (sem caracter $ e tipo numérica)\n",
        "- Mudar os dados da coluna \"Sexo\" para Masculino e Feminino (tente usar o map)\n",
        "- Transformar os dados da coluna Media em inteiro\n",
        "- Criar coluna \"NPS\" onde o investidor é promotor se a média das notas é maior igual a 80, neutro se a média estiver entre 50 e 80, e detrator se for abaixo de 50\n"
      ]
    },
    {
      "cell_type": "code",
      "execution_count": null,
      "id": "0570d688",
      "metadata": {
        "id": "0570d688"
      },
      "outputs": [],
      "source": []
    },
    {
      "cell_type": "markdown",
      "id": "767fc018",
      "metadata": {
        "id": "767fc018"
      },
      "source": [
        "## 8 - Calcule os seguintes dados\n",
        "- Calcule o total investido em cada coluna Ativo (tente usar o apply)\n",
        "- Qual o menor valor investido em cada ativo?\n",
        "- Mostre a média e desvio padrão de cada ativo\n",
        "- Qual a idade do investidor mais velho?\n",
        "- Qual a mediana da coluna Média?"
      ]
    },
    {
      "cell_type": "code",
      "execution_count": null,
      "id": "992d886b",
      "metadata": {
        "id": "992d886b"
      },
      "outputs": [],
      "source": []
    },
    {
      "cell_type": "markdown",
      "id": "0f074caf",
      "metadata": {
        "id": "0f074caf"
      },
      "source": [
        "## 9 - Responder as perguntas abaixo\n",
        "\n",
        "- Quantos investidores são promotores?\n",
        "- Quantos investidores são do sexo feminino?\n",
        "- Quantos investidores investiram mais de 16000 no Ativo04?\n",
        "- Quantos investidores investiram mais de 16000 no Ativo04 e menos de 5000 no Ativo05?\n",
        "- Quantos investidores do sexo feminino tem mais de 25 anos e investiu menos de 10000? (bonus: por que esse dado seria importante para a estratégia da nossa empresa?\n",
        "\n",
        "- Quantos investidores tem em cada estado (dica: use groupby)\n",
        "- Qual é a soma do total investido por cada estado?\n",
        "- Como os investidores se distribuem em promotores, detratores e neutros?\n",
        "- Qual é a média do total investido por promotores, detratores e neutros?\n"
      ]
    },
    {
      "cell_type": "code",
      "execution_count": null,
      "id": "G6L0Qjjgyz1L",
      "metadata": {
        "id": "G6L0Qjjgyz1L"
      },
      "outputs": [],
      "source": []
    }
  ],
  "metadata": {
    "colab": {
      "provenance": []
    },
    "kernelspec": {
      "display_name": "Python 3",
      "language": "python",
      "name": "python3"
    },
    "language_info": {
      "codemirror_mode": {
        "name": "ipython",
        "version": 3
      },
      "file_extension": ".py",
      "mimetype": "text/x-python",
      "name": "python",
      "nbconvert_exporter": "python",
      "pygments_lexer": "ipython3",
      "version": "3.11.1"
    },
    "varInspector": {
      "cols": {
        "lenName": 16,
        "lenType": 16,
        "lenVar": 40
      },
      "kernels_config": {
        "python": {
          "delete_cmd_postfix": "",
          "delete_cmd_prefix": "del ",
          "library": "var_list.py",
          "varRefreshCmd": "print(var_dic_list())"
        },
        "r": {
          "delete_cmd_postfix": ") ",
          "delete_cmd_prefix": "rm(",
          "library": "var_list.r",
          "varRefreshCmd": "cat(var_dic_list()) "
        }
      },
      "types_to_exclude": [
        "module",
        "function",
        "builtin_function_or_method",
        "instance",
        "_Feature"
      ],
      "window_display": false
    }
  },
  "nbformat": 4,
  "nbformat_minor": 5
}
